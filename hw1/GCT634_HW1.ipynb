{
  "cells": [
    {
      "cell_type": "markdown",
      "metadata": {
        "colab_type": "text",
        "id": "view-in-github"
      },
      "source": [
        "<a href=\"https://colab.research.google.com/github/hongjumeow/GCT634/blob/main/GCT634_HW1.ipynb\" target=\"_parent\"><img src=\"https://colab.research.google.com/assets/colab-badge.svg\" alt=\"Open In Colab\"/></a>"
      ]
    },
    {
      "cell_type": "markdown",
      "metadata": {
        "id": "V-NMBe7RjD63"
      },
      "source": [
        "# Musical Instrument Recognition  (Single-Label Classification)"
      ]
    },
    {
      "cell_type": "markdown",
      "metadata": {
        "id": "HSC4VdLlJgOO"
      },
      "source": [
        "# Importing Packages"
      ]
    },
    {
      "cell_type": "code",
      "execution_count": null,
      "metadata": {
        "id": "2lvbCxx7sD9e"
      },
      "outputs": [],
      "source": [
        "# load libraries\n",
        "import sys\n",
        "import os\n",
        "import numpy as np\n",
        "import librosa\n",
        "from sklearn.linear_model import SGDClassifier\n",
        "import matplotlib.pyplot as plt"
      ]
    },
    {
      "cell_type": "markdown",
      "metadata": {
        "id": "W_U1PrNWQjsy"
      },
      "source": [
        "# Global Settings\n"
      ]
    },
    {
      "cell_type": "code",
      "execution_count": 453,
      "metadata": {
        "id": "T01AqcUyw-Wo"
      },
      "outputs": [],
      "source": [
        "\n",
        "# Change this data path with your own local path\n",
        "data_path = './gct634_nsynth/'\n",
        "\n",
        "# path to store MFCC\n",
        "mfcc_path = './nsynth_features/mfcc/'\n",
        "\n",
        "MFCC_DIM = 15\n",
        "\n",
        "NUM_TRAIN = 1100 # 1100\n",
        "NUM_VALID = 300 # 300\n"
      ]
    },
    {
      "cell_type": "markdown",
      "metadata": {
        "id": "8wJ3td3nraXx"
      },
      "source": [
        "# Feature Extraction"
      ]
    },
    {
      "cell_type": "code",
      "execution_count": null,
      "metadata": {
        "id": "bx_auh0kqFK8"
      },
      "outputs": [],
      "source": [
        "def extract_mfcc(dataset='train'):\n",
        "    f = open(data_path + dataset + '_list.txt','r')\n",
        "\n",
        "    i = 0\n",
        "    for file_name in f:\n",
        "        # progress check\n",
        "        i = i + 1\n",
        "        if not (i % 10):\n",
        "            if dataset == 'train':\n",
        "              print(\"\\r {:.2f}%\".format(i/NUM_TRAIN*100), end='')\n",
        "            elif dataset == 'valid':\n",
        "              print(\"\\r {:.2f}%\".format(i/NUM_VALID*100), end='')\n",
        "\n",
        "        # load audio file\n",
        "        file_name = file_name.rstrip('\\n')\n",
        "        file_path = data_path + file_name\n",
        "        y, sr = librosa.load(file_path, sr=22050)\n",
        "\n",
        "        ##### Method 1\n",
        "        # mfcc = librosa.feature.mfcc(y=y, sr=sr, n_mfcc=MFCC_DIM)\n",
        "\n",
        "        ##### Method 2\n",
        "        \n",
        "        # STFT\n",
        "        S = librosa.core.stft(y, n_fft=1024, hop_length=512, win_length=1024)\n",
        "\n",
        "        # power spectrum\n",
        "        D = np.abs(S)**2\n",
        "\n",
        "        # mel spectrogram (512 --> 40)\n",
        "        mel_basis = librosa.filters.mel(sr=sr, n_fft=1024, n_mels=40)\n",
        "        mel_S = np.dot(mel_basis, D)\n",
        "\n",
        "        #log compression\n",
        "        log_mel_S = librosa.power_to_db(mel_S)\n",
        "\n",
        "        # mfcc (DCT)\n",
        "        mfcc = librosa.feature.mfcc(S=log_mel_S, n_mfcc=MFCC_DIM)\n",
        "\n",
        "        delta_mfcc = librosa.feature.delta(mfcc)\n",
        "        delta2_mfcc = librosa.feature.delta(mfcc, order=2) # add delta\n",
        "        \n",
        "        spectral_centroid = np.repeat(librosa.feature.spectral_centroid(S=np.sqrt(D), sr=sr), MFCC_DIM, axis=0)\n",
        "        spectral_bandwidth = np.repeat(librosa.feature.spectral_bandwidth(S=np.sqrt(D), sr=sr), MFCC_DIM, axis=0)\n",
        "        spectral_flatness = np.repeat(librosa.feature.spectral_flatness(S=np.sqrt(D)), MFCC_DIM, axis=0)\n",
        "        \n",
        "        mfcc = mfcc.astype(np.float32)    # to save the memory (64 to 32 bits)\n",
        "        delta_mfcc = delta_mfcc.astype(np.float32)    # to save the memory (64 to 32 bits)\n",
        "        delta2_mfcc = delta2_mfcc.astype(np.float32)    # to save the memory (64 to 32 bits)\n",
        "        spectral_centroid = spectral_centroid.astype(np.float32)    # to save the memory (64 to 32 bits)\n",
        "        spectral_bandwidth = spectral_bandwidth.astype(np.float32)    # to save the memory (64 to 32 bits)\n",
        "        spectral_flatness = spectral_flatness.astype(np.float32)    # to save the memory (64 to 32 bits)\n",
        "\n",
        "        mfcc = np.vstack([\n",
        "           mfcc,\n",
        "           delta_mfcc, delta2_mfcc, \n",
        "           spectral_centroid,\n",
        "           spectral_bandwidth,\n",
        "           spectral_flatness\n",
        "           ])\n",
        "\n",
        "        # save mfcc as a file\n",
        "        file_name = file_name.replace('.wav','.npy')\n",
        "        save_file = mfcc_path + file_name\n",
        "\n",
        "        if not os.path.exists(os.path.dirname(save_file)):\n",
        "            os.makedirs(os.path.dirname(save_file))\n",
        "        np.save(save_file, mfcc)\n",
        "\n",
        "    f.close()"
      ]
    },
    {
      "cell_type": "code",
      "execution_count": 455,
      "metadata": {
        "colab": {
          "base_uri": "https://localhost:8080/"
        },
        "id": "szD9RYICqFOU",
        "outputId": "488b0a75-4e5d-40e8-fad7-9dbf323b9fa2"
      },
      "outputs": [
        {
          "name": "stdout",
          "output_type": "stream",
          "text": [
            " 100.00%"
          ]
        }
      ],
      "source": [
        "extract_mfcc(dataset='train')\n",
        "extract_mfcc(dataset='valid')"
      ]
    },
    {
      "cell_type": "markdown",
      "metadata": {
        "id": "DHhdy0Qtwa5d"
      },
      "source": [
        "# Feature Summary"
      ]
    },
    {
      "cell_type": "code",
      "execution_count": 457,
      "metadata": {
        "id": "NMWshuVQwcoR"
      },
      "outputs": [],
      "source": [
        "def mean_mfcc(dataset='train'):\n",
        "\n",
        "    f = open(data_path + dataset + '_list.txt','r')\n",
        "\n",
        "    if dataset == 'train':\n",
        "        mfcc_mat = np.zeros(shape=(6*MFCC_DIM, NUM_TRAIN))\n",
        "    elif dataset == 'valid':\n",
        "        mfcc_mat = np.zeros(shape=(6*MFCC_DIM, NUM_VALID))\n",
        "\n",
        "    i = 0\n",
        "    for file_name in f:\n",
        "\n",
        "        # load mfcc file\n",
        "        file_name = file_name.rstrip('\\n')\n",
        "        file_name = file_name.replace('.wav','.npy')\n",
        "        mfcc_file = mfcc_path + file_name\n",
        "        mfcc = np.load(mfcc_file)\n",
        "\n",
        "        # mean pooling\n",
        "        temp = np.mean(mfcc, axis=1) # (20,)\n",
        "        mfcc_mat[:, i]= np.mean(mfcc, axis=1) # 2개 단계의 MFCC를 평균?\n",
        "        i = i + 1\n",
        "\n",
        "    f.close()\n",
        "\n",
        "    return mfcc_mat\n"
      ]
    },
    {
      "cell_type": "code",
      "execution_count": 458,
      "metadata": {
        "id": "qFYUYDZBwc0p"
      },
      "outputs": [],
      "source": [
        "train_mfcc = mean_mfcc('train')\n",
        "valid_mfcc = mean_mfcc('valid')"
      ]
    },
    {
      "cell_type": "code",
      "execution_count": 459,
      "metadata": {
        "colab": {
          "base_uri": "https://localhost:8080/",
          "height": 430
        },
        "id": "UaAMZUAF1Kim",
        "outputId": "b37c02c5-557e-40cc-82ca-4086e8fff7a6"
      },
      "outputs": [
        {
          "data": {
            "image/png": "[encoded data removed]",
            "text/plain": [
              "<Figure size 640x480 with 2 Axes>"
            ]
          },
          "metadata": {},
          "output_type": "display_data"
        }
      ],
      "source": [
        "plt.figure(1)\n",
        "plt.subplot(2,1,1)\n",
        "plt.imshow(train_mfcc, interpolation='nearest', origin='lower', aspect='auto')\n",
        "\n",
        "plt.subplot(2,1,2)\n",
        "plt.imshow(valid_mfcc, interpolation='nearest', origin='lower', aspect='auto')\n",
        "\n",
        "plt.show()\n",
        "\n"
      ]
    },
    {
      "cell_type": "markdown",
      "metadata": {
        "id": "a5VV5fYs1oOP"
      },
      "source": [
        "# Data Preparation"
      ]
    },
    {
      "cell_type": "code",
      "execution_count": 460,
      "metadata": {
        "id": "pNtBm7VQwc_Z"
      },
      "outputs": [],
      "source": [
        "# load data\n",
        "train_X = train_mfcc\n",
        "valid_X = valid_mfcc\n",
        "\n",
        "# label generation\n",
        "cls = np.array([1,2,3,4,5,6,7,8,9,10])\n",
        "train_Y = np.repeat(cls, int(NUM_TRAIN/10))\n",
        "valid_Y = np.repeat(cls, int(NUM_VALID/10))\n",
        "\n",
        "# feature normalizaiton\n",
        "train_X = train_X.T\n",
        "train_X_mean = np.mean(train_X, axis=0)\n",
        "train_X = train_X - train_X_mean\n",
        "train_X_std = np.std(train_X, axis=0)\n",
        "train_X = train_X / (train_X_std + 1e-5)\n",
        "\n",
        "valid_X = valid_X.T\n",
        "valid_X = valid_X - train_X_mean\n",
        "valid_X = valid_X/(train_X_std + 1e-5)\n"
      ]
    },
    {
      "cell_type": "markdown",
      "metadata": {
        "id": "_nGF3xSl7JBl"
      },
      "source": [
        "# ML Model Training & Validation"
      ]
    },
    {
      "cell_type": "code",
      "execution_count": null,
      "metadata": {},
      "outputs": [],
      "source": [
        "from sklearn.ensemble import VotingClassifier\n",
        "from sklearn.linear_model import LogisticRegression\n",
        "from sklearn.ensemble import RandomForestClassifier\n",
        "from sklearn.svm import SVC"
      ]
    },
    {
      "cell_type": "code",
      "execution_count": null,
      "metadata": {
        "id": "M4cuL_gOwdCx"
      },
      "outputs": [],
      "source": [
        "def train_model(train_X, train_Y, valid_X, valid_Y, hyper_param1):\n",
        "\n",
        "    clf1 = LogisticRegression(C=1.0, max_iter=1000)\n",
        "    clf2 = RandomForestClassifier()\n",
        "    clf3 = SVC(probability=True)  # probability=True for soft voting\n",
        "    \n",
        "    voting_clf = VotingClassifier(estimators=[\n",
        "        # ('svd', clf),\n",
        "        ('lr', clf1), ('rf', clf2), ('svc', clf3)\n",
        "    ], voting='soft')\n",
        "    # train\n",
        "    voting_clf.fit(train_X, train_Y)\n",
        "\n",
        "    # validation\n",
        "    valid_Y_hat = voting_clf.predict(valid_X)\n",
        "\n",
        "    accuracy = np.sum((valid_Y_hat == valid_Y))/NUM_VALID*100.0\n",
        "\n",
        "    return voting_clf, accuracy\n"
      ]
    },
    {
      "cell_type": "code",
      "execution_count": 463,
      "metadata": {},
      "outputs": [],
      "source": [
        "# from sklearn.neighbors import KNeighborsClassifier\n",
        "\n",
        "# pca = PCA(n_components=30)\n",
        "# train_X = pca.fit_transform(train_X)\n",
        "# valid_X = pca.transform(valid_X)\n",
        "\n",
        "# def train_model(train_X, train_Y, valid_X, valid_Y, hyper_param1):\n",
        "#     # 여기서 hyper_param1은 k로 사용\n",
        "#     clf = KNeighborsClassifier(n_neighbors=7)\n",
        "\n",
        "#     clf.fit(train_X, train_Y)\n",
        "\n",
        "#     valid_Y_hat = clf.predict(valid_X)\n",
        "#     accuracy = np.mean(valid_Y_hat == valid_Y) * 100.0\n",
        "\n",
        "#     return clf, accuracy"
      ]
    },
    {
      "cell_type": "code",
      "execution_count": 464,
      "metadata": {
        "colab": {
          "base_uri": "https://localhost:8080/"
        },
        "id": "fr9QpNSd2TNV",
        "outputId": "af424197-e7a4-412c-a0f2-02ef15c159c6"
      },
      "outputs": [
        {
          "name": "stdout",
          "output_type": "stream",
          "text": [
            "alpha=0.0001, validation acc=97.33%\n",
            "alpha=0.0010, validation acc=97.33%\n",
            "alpha=0.0100, validation acc=97.33%\n",
            "alpha=0.1000, validation acc=97.33%\n",
            "alpha=1.0000, validation acc=97.33%\n",
            "Best validation acc=97.33%\n"
          ]
        }
      ],
      "source": [
        "# training model\n",
        "alphas = [0.0001, 0.001, 0.01, 0.1, 1]\n",
        "\n",
        "model = []\n",
        "valid_acc = []\n",
        "\n",
        "# model search\n",
        "for a in alphas:\n",
        "  clf, acc = train_model(train_X, train_Y, valid_X, valid_Y, a)\n",
        "  model.append(clf)\n",
        "  valid_acc.append(acc)\n",
        "\n",
        "  print(f'alpha={a:.4f}, validation acc={acc:.2f}%')\n",
        "\n",
        "# choose the model that achieve the best validation accuracy\n",
        "final_model = model[np.argmax(valid_acc)]\n",
        "\n",
        "print(f'Best validation acc={valid_acc[np.argmax(valid_acc)]:.2f}%')\n"
      ]
    }
  ],
  "metadata": {
    "colab": {
      "include_colab_link": true,
      "provenance": []
    },
    "kernelspec": {
      "display_name": "gct634",
      "language": "python",
      "name": "python3"
    },
    "language_info": {
      "codemirror_mode": {
        "name": "ipython",
        "version": 3
      },
      "file_extension": ".py",
      "mimetype": "text/x-python",
      "name": "python",
      "nbconvert_exporter": "python",
      "pygments_lexer": "ipython3",
      "version": "3.9.21"
    }
  },
  "nbformat": 4,
  "nbformat_minor": 0
}
